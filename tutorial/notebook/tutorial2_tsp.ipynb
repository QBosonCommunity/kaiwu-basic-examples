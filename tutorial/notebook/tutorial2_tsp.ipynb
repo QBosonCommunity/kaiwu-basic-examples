{
 "cells": [
  {
   "cell_type": "code",
   "execution_count": 3,
   "metadata": {},
   "outputs": [],
   "source": [
    "# 在第一个代码块中添加可视化相关的库\n",
    "import kaiwu as kw\n",
    "import numpy as np\n",
    "import pandas as pd\n"
   ]
  },
  {
   "cell_type": "code",
   "execution_count": null,
   "metadata": {},
   "outputs": [],
   "source": [
    "# Import distance matrix\n",
    "w = np.array([[0, 1, 2],\n",
    "              [1, 0, 0],\n",
    "              [2, 0, 0]])\n",
    "# Get the number of nodes\n",
    "n = w.shape[0]\n",
    "\n",
    "# Create qubo variable matrix\n",
    "x = kw.qubo.ndarray((n, n), \"x\", kw.qubo.Binary)"
   ]
  },
  {
   "cell_type": "code",
   "execution_count": null,
   "metadata": {},
   "outputs": [],
   "source": [
    "def is_edge_used(var_x, var_u, var_v):\n",
    "    \"\"\"\n",
    "    Determine whether the edge (u, v) is used in the path.\n",
    "\n",
    "    Args:\n",
    "        var_x (ndarray): Decision variable matrix.\n",
    "\n",
    "        var_u (int): Start node.\n",
    "\n",
    "        var_v (int): End node.\n",
    "\n",
    "    Returns:\n",
    "        ndarray: Decision variable corresponding to the edge (u, v).\n",
    "    \"\"\"\n",
    "    return kw.qubo.quicksum([var_x[var_u, j] * var_x[var_v, j + 1] for j in range(-1, n - 1)])\n",
    "\n",
    "# Get sets of edge and non-edge pairs\n",
    "edges = [(u, v) for u in range(n) for v in range(n) if w[u, v] != 0]\n",
    "no_edges = [(u, v) for u in range(n) for v in range(n) if w[u, v] == 0]\n"
   ]
  },
  {
   "cell_type": "code",
   "execution_count": null,
   "metadata": {},
   "outputs": [],
   "source": [
    "qubo_model = kw.qubo.QuboModel()\n",
    "# TSP path cost\n",
    "qubo_model.set_objective(kw.qubo.quicksum([w[u, v] * is_edge_used(x, u, v) for u, v in edges]))\n",
    "\n",
    "# Node constraint: Each node must belong to exactly one position\n",
    "qubo_model.add_constraint(x.sum(axis=0) == 1, \"sequence_cons\", penalty=5.0)\n",
    "\n",
    "# Position constraint: Each position can have only one node\n",
    "qubo_model.add_constraint(x.sum(axis=1) == 1, \"node_cons\", penalty=5.0)\n",
    "\n",
    "# Edge constraint: Pairs without edges cannot appear in the path\n",
    "qubo_model.add_constraint(kw.qubo.quicksum([is_edge_used(x, u, v) for u, v in no_edges]),\n",
    "    \"connect_cons\", penalty=20.0)\n"
   ]
  },
  {
   "cell_type": "code",
   "execution_count": null,
   "metadata": {},
   "outputs": [],
   "source": [
    "qubo_mat = qubo_model.get_matrix()\n",
    "pd.DataFrame(qubo_mat).to_csv(\"tsp.csv\", index=False, header=False)\n"
   ]
  },
  {
   "cell_type": "code",
   "execution_count": null,
   "metadata": {},
   "outputs": [],
   "source": []
  },
  {
   "cell_type": "code",
   "execution_count": null,
   "metadata": {},
   "outputs": [
    {
     "name": "stdout",
     "output_type": "stream",
     "text": [
      "unsatisfied constraint:  0\n",
      "value of constraint term {'sequence_cons(0,)': 0.0, 'sequence_cons(1,)': 0.0, 'sequence_cons(2,)': 0.0, 'sequence_cons(3,)': 0.0, 'sequence_cons(4,)': 0.0, 'node_cons(0,)': 0.0, 'node_cons(1,)': 0.0, 'node_cons(2,)': 0.0, 'node_cons(3,)': 0.0, 'node_cons(4,)': 0.0, 'connect_cons': 0.0}\n",
      "path_cost: 52.0\n"
     ]
    }
   ],
   "source": []
  }
 ],
 "metadata": {
  "kernelspec": {
   "display_name": "kaiwu_sdk_1.0.1",
   "language": "python",
   "name": "python3"
  },
  "language_info": {
   "codemirror_mode": {
    "name": "ipython",
    "version": 3
   },
   "file_extension": ".py",
   "mimetype": "text/x-python",
   "name": "python",
   "nbconvert_exporter": "python",
   "pygments_lexer": "ipython3",
   "version": "3.8.19"
  }
 },
 "nbformat": 4,
 "nbformat_minor": 2
}
