{
 "cells": [
  {
   "cell_type": "code",
   "execution_count": 3,
   "metadata": {},
   "outputs": [],
   "source": [
    "# 在第一个代码块中添加可视化相关的库\n",
    "import kaiwu as kw\n",
    "import numpy as np\n",
    "import pandas as pd\n"
   ]
  },
  {
   "cell_type": "code",
   "execution_count": 4,
   "metadata": {},
   "outputs": [],
   "source": [
    "\"\"\"\n",
    "新手教程2 - 旅行商问题示例\n",
    "\"\"\"\n",
    "# Import distance matrix\n",
    "w = np.array([[ 0, 13, 11, 16,  8],\n",
    "                [13,  0,  7, 14,  9],\n",
    "                [11,  7,  0, 10,  9],\n",
    "                [16, 14, 10,  0, 12],\n",
    "                [ 8,  9,  9, 12,  0]])\n",
    "\n",
    "# Get the number of nodes\n",
    "n = w.shape[0]\n",
    "\n",
    "# Create qubo variable matrix\n",
    "x = kw.qubo.ndarray((n, n), \"x\", kw.qubo.Binary)\n",
    "\n",
    "\n"
   ]
  },
  {
   "cell_type": "code",
   "execution_count": 5,
   "metadata": {},
   "outputs": [],
   "source": [
    "# Get sets of edge and non-edge pairs\n",
    "edges = [(u, v) for u in range(n) for v in range(n) if w[u, v] != 0]\n",
    "no_edges = [(u, v) for u in range(n) for v in range(n) if w[u, v] == 0]\n",
    " \n",
    "def is_edge_used(x, u, v):\n",
    "    return kw.qubo.quicksum([x[u, j] * x[v, j + 1] for j in range(-1, n - 1)])\n",
    "\n"
   ]
  },
  {
   "cell_type": "code",
   "execution_count": 6,
   "metadata": {},
   "outputs": [],
   "source": [
    "qubo_model = kw.qubo.QuboModel()\n",
    "# TSP path cost\n",
    "qubo_model.set_objective(kw.qubo.quicksum([w[u, v] * is_edge_used(x, u, v) for u, v in edges]))\n",
    "\n",
    "# Node constraint: Each node must belong to exactly one position\n",
    "qubo_model.add_constraint(x.sum(axis=0) == 1, \"sequence_cons\", penalty=20)\n",
    "\n",
    "# Position constraint: Each position can have only one node\n",
    "qubo_model.add_constraint(x.sum(axis=1) == 1, \"node_cons\", penalty=20)\n",
    "\n",
    "# Edge constraint: Pairs without edges cannot appear in the path\n",
    "qubo_model.add_constraint(kw.qubo.quicksum([is_edge_used(x, u, v) for u, v in no_edges]),\n",
    "        \"connect_cons\", penalty=20)\n",
    "\n"
   ]
  },
  {
   "cell_type": "code",
   "execution_count": 7,
   "metadata": {},
   "outputs": [],
   "source": [
    "# Perform calculation using SA optimizer\n",
    "solver = kw.solver.SimpleSolver(kw.classical.SimulatedAnnealingOptimizer(initial_temperature=100,\n",
    "                                                                            alpha=0.99,\n",
    "                                                                            cutoff_temperature=0.001,\n",
    "                                                                            iterations_per_t=10,\n",
    "                                                                            size_limit=100))\n",
    "\n",
    "sol_dict, qubo_val = solver.solve_qubo(qubo_model)\n",
    "\n"
   ]
  },
  {
   "cell_type": "code",
   "execution_count": 8,
   "metadata": {},
   "outputs": [
    {
     "name": "stdout",
     "output_type": "stream",
     "text": [
      "unsatisfied constraint:  0\n",
      "value of constraint term {'sequence_cons(0,)': 0.0, 'sequence_cons(1,)': 0.0, 'sequence_cons(2,)': 0.0, 'sequence_cons(3,)': 0.0, 'sequence_cons(4,)': 0.0, 'node_cons(0,)': 0.0, 'node_cons(1,)': 0.0, 'node_cons(2,)': 0.0, 'node_cons(3,)': 0.0, 'node_cons(4,)': 0.0, 'connect_cons': 0.0}\n",
      "path_cost: 52.0\n"
     ]
    }
   ],
   "source": [
    "# Check the hard constraints for validity and path length\n",
    "unsatisfied_count, res_dict = qubo_model.verify_constraint(sol_dict)\n",
    "print(\"unsatisfied constraint: \", unsatisfied_count)\n",
    "print(\"value of constraint term\", res_dict)\n",
    "\n",
    "# Calculate the path length using path_cost\n",
    "path_val = kw.qubo.get_val(qubo_model.objective, sol_dict)\n",
    "print('path_cost: {}'.format(path_val))"
   ]
  }
 ],
 "metadata": {
  "kernelspec": {
   "display_name": "kaiwu_sdk_1.0.1",
   "language": "python",
   "name": "python3"
  },
  "language_info": {
   "codemirror_mode": {
    "name": "ipython",
    "version": 3
   },
   "file_extension": ".py",
   "mimetype": "text/x-python",
   "name": "python",
   "nbconvert_exporter": "python",
   "pygments_lexer": "ipython3",
   "version": "3.8.19"
  }
 },
 "nbformat": 4,
 "nbformat_minor": 2
}
