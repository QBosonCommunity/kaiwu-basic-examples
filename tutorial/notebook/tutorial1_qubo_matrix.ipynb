{
 "cells": [
  {
   "cell_type": "code",
   "execution_count": 1,
   "metadata": {},
   "outputs": [],
   "source": [
    "import numpy as np\n",
    "import kaiwu as kw\n",
    "import pandas as pd"
   ]
  },
  {
   "cell_type": "code",
   "execution_count": 2,
   "metadata": {},
   "outputs": [],
   "source": [
    "# Define the input adjacency matrix for the graph\n",
    "adj_matrix = np.array([\n",
    "                [0, 1, 0, 1, 1, 0, 0, 1, 1, 0],\n",
    "                [1, 0, 1, 0, 0, 1, 1, 1, 0, 0],\n",
    "                [0, 1, 0, 1, 1, 0, 0, 0, 1, 0],\n",
    "                [1, 0, 1, 0, 0, 1, 1, 0 ,1, 0],\n",
    "                [1, 0, 1, 0, 0, 1, 0, 1, 0, 1],\n",
    "                [0, 1, 0, 1, 1, 0, 0, 0, 1, 1],\n",
    "                [0, 1, 0, 1, 0, 0, 0, 0, 0, 1],\n",
    "                [1, 1, 0, 0, 1, 0, 0, 0, 1, 0],\n",
    "                [1, 0, 1, 1, 0, 1, 0, 1, 0, 1],\n",
    "                [0, 0, 0, 0, 1, 1, 1, 0, 1, 0]])\n",
    "\n",
    "# Get the number of nodes in the graph\n",
    "num_nodes = len(adj_matrix)"
   ]
  },
  {
   "cell_type": "code",
   "execution_count": 3,
   "metadata": {},
   "outputs": [],
   "source": [
    "#Create a QUBO variable array 'x' with 'num_nodes' variables\n",
    "# each representing a node in the graph\n",
    "x = kw.qubo.ndarray(num_nodes,'x',kw.qubo.Binary)"
   ]
  },
  {
   "cell_type": "code",
   "execution_count": 4,
   "metadata": {},
   "outputs": [],
   "source": [
    "\n",
    "# Define the objective function for the QUBO model of Max cut problem\n",
    "obj = -x.T @ adj_matrix @ (1-x)\n",
    "\n",
    "# parse QUBO\n",
    "obj = kw.qubo.make(obj)\n",
    "\n",
    "# Extract the QUBO matrix and store it in a pandas DataFrame\n",
    "qubo_matrix = kw.qubo.qubo_model_to_qubo_matrix(obj)['qubo_matrix']\n",
    "\n",
    "# Check whether the QUBO matrix satisfy the precision requirement\n",
    "kw.qubo.check_qubo_matrix_bit_width(qubo_matrix)\n"
   ]
  },
  {
   "cell_type": "code",
   "execution_count": 5,
   "metadata": {},
   "outputs": [],
   "source": [
    "# Save the QUBO matrix to a CSV file without including index or header\n",
    "df = pd.DataFrame(qubo_matrix)\n",
    "csv_file_path = 'qubo_matrix.csv'\n",
    "df.to_csv(csv_file_path,index=False,header=False)"
   ]
  }
 ],
 "metadata": {
  "kernelspec": {
   "display_name": "kaiwu_sdk_1.0.1",
   "language": "python",
   "name": "python3"
  },
  "language_info": {
   "codemirror_mode": {
    "name": "ipython",
    "version": 3
   },
   "file_extension": ".py",
   "mimetype": "text/x-python",
   "name": "python",
   "nbconvert_exporter": "python",
   "pygments_lexer": "ipython3",
   "version": "3.8.19"
  }
 },
 "nbformat": 4,
 "nbformat_minor": 2
}
