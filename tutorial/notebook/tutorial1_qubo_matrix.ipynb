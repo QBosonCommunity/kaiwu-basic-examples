{
 "cells": [
  {
   "cell_type": "code",
   "execution_count": null,
   "metadata": {},
   "outputs": [],
   "source": [
    "import numpy as np\n",
    "import kaiwu as kw\n",
    "import pandas as pd\n",
    "kw.common.CheckpointManager.save_dir = \"/tmp\"\n",
    "kw.license.init(user_id=\"xxxxxx\", sdk_code=\"xxxxxxxx\")"
   ]
  },
  {
   "cell_type": "code",
   "execution_count": 26,
   "metadata": {},
   "outputs": [],
   "source": [
    "# Import distance matrix\n",
    "w = np.array([[ 0, 13, 11, 16,  8],\n",
    "              [13,  0,  7, 14,  9],\n",
    "              [11,  7,  0, 10,  9],\n",
    "              [16, 14, 10,  0, 12],\n",
    "              [ 8,  9,  9, 12,  0]])\n",
    "\n",
    "# Get the number of nodes\n",
    "n = w.shape[0]"
   ]
  },
  {
   "cell_type": "code",
   "execution_count": 27,
   "metadata": {},
   "outputs": [],
   "source": [
    "# Create qubo variable matrix\n",
    "x = kw.qubo.ndarray((n, n), \"x\", kw.qubo.Binary)\n",
    "\n",
    "# Get sets of edge and non-edge pairs\n",
    "edges = [(u, v) for u in range(n) for v in range(n) if w[u, v] != 0]\n",
    "no_edges = [(u, v) for u in range(n) for v in range(n) if w[u, v] == 0]"
   ]
  },
  {
   "cell_type": "code",
   "execution_count": 28,
   "metadata": {},
   "outputs": [],
   "source": [
    "def is_edge_used(x, u, v):\n",
    "    return kw.qubo.quicksum([x[u, j] * x[v, j + 1] for j in range(-1, n - 1)])"
   ]
  },
  {
   "cell_type": "code",
   "execution_count": 29,
   "metadata": {},
   "outputs": [],
   "source": [
    "qubo_model = kw.qubo.QuboModel()\n",
    "# TSP path cost\n",
    "qubo_model.set_objective(kw.qubo.quicksum([w[u, v] * is_edge_used(x, u, v) for u, v in edges]))\n",
    "\n",
    "# Node constraint: Each node must belong to exactly one position\n",
    "qubo_model.add_constraint(x.sum(axis=0) == 1, \"sequence_cons\", penalty=20.0)\n",
    "\n",
    "# Position constraint: Each position can have only one node\n",
    "qubo_model.add_constraint(x.sum(axis=1) == 1, \"node_cons\", penalty=20.0)\n",
    "\n",
    "# Edge constraint: Pairs without edges cannot appear in the path\n",
    "qubo_model.add_constraint(kw.qubo.quicksum([is_edge_used(x, u, v) for u, v in no_edges]),\n",
    "    \"connect_cons\", penalty=20.0)"
   ]
  },
  {
   "cell_type": "code",
   "execution_count": 30,
   "metadata": {},
   "outputs": [
    {
     "name": "stdout",
     "output_type": "stream",
     "text": [
      "{'x[0][0]': np.float64(0.0), 'x[0][1]': np.float64(0.0), 'x[0][2]': np.float64(0.0), 'x[0][3]': np.float64(1.0), 'x[0][4]': np.float64(0.0), 'x[1][0]': np.float64(0.0), 'x[1][1]': np.float64(0.0), 'x[1][2]': np.float64(1.0), 'x[1][3]': np.float64(0.0), 'x[1][4]': np.float64(0.0), 'x[2][0]': np.float64(0.0), 'x[2][1]': np.float64(0.0), 'x[2][2]': np.float64(0.0), 'x[2][3]': np.float64(0.0), 'x[2][4]': np.float64(1.0), 'x[3][0]': np.float64(0.0), 'x[3][1]': np.float64(1.0), 'x[3][2]': np.float64(0.0), 'x[3][3]': np.float64(0.0), 'x[3][4]': np.float64(0.0), 'x[4][0]': np.float64(1.0), 'x[4][1]': np.float64(0.0), 'x[4][2]': np.float64(0.0), 'x[4][3]': np.float64(0.0), 'x[4][4]': np.float64(0.0)}\n",
      "59.0\n"
     ]
    }
   ],
   "source": [
    "# Perform calculation using SA optimizer\n",
    "solver = kw.solver.SimpleSolver(kw.classical.SimulatedAnnealingOptimizer(initial_temperature=100,\n",
    "                                                                         alpha=0.99,\n",
    "                                                                         cutoff_temperature=0.001,\n",
    "                                                                         iterations_per_t=10,\n",
    "                                                                         size_limit=100))\n",
    "\n",
    "sol_dict, qubo_val = solver.solve_qubo(qubo_model)\n",
    "print(sol_dict)\n",
    "print(qubo_val)\n"
   ]
  }
 ],
 "metadata": {
  "kernelspec": {
   "display_name": "Python 3",
   "language": "python",
   "name": "python3"
  },
  "language_info": {
   "codemirror_mode": {
    "name": "ipython",
    "version": 3
   },
   "file_extension": ".py",
   "mimetype": "text/x-python",
   "name": "python",
   "nbconvert_exporter": "python",
   "pygments_lexer": "ipython3",
   "version": "3.10.18"
  }
 },
 "nbformat": 4,
 "nbformat_minor": 2
}
