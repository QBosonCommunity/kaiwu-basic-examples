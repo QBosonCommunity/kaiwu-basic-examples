{
 "cells": [
  {
   "cell_type": "code",
   "execution_count": 7,
   "metadata": {},
   "outputs": [],
   "source": [
    "import numpy as np\n",
    "import kaiwu as kw\n",
    "import pandas as pd"
   ]
  },
  {
   "cell_type": "code",
   "execution_count": 8,
   "metadata": {},
   "outputs": [],
   "source": [
    "# Import distance matrix\n",
    "w = np.array([[ 0, 13, 11, 16,  8],\n",
    "              [13,  0,  7, 14,  9],\n",
    "              [11,  7,  0, 10,  9],\n",
    "              [16, 14, 10,  0, 12],\n",
    "              [ 8,  9,  9, 12,  0]])\n",
    "\n",
    "# Get the number of nodes\n",
    "n = w.shape[0]"
   ]
  },
  {
   "cell_type": "code",
   "execution_count": 9,
   "metadata": {},
   "outputs": [],
   "source": [
    "# Create qubo variable matrix\n",
    "x = kw.qubo.ndarray((n, n), \"x\", kw.qubo.Binary)\n",
    "\n",
    "# Get sets of edge and non-edge pairs\n",
    "edges = [(u, v) for u in range(n) for v in range(n) if w[u, v] != 0]\n",
    "no_edges = [(u, v) for u in range(n) for v in range(n) if w[u, v] == 0]"
   ]
  },
  {
   "cell_type": "code",
   "execution_count": 10,
   "metadata": {},
   "outputs": [],
   "source": [
    "def is_edge_used(x, u, v):\n",
    "    return kw.qubo.quicksum([x[u, j] * x[v, j + 1] for j in range(-1, n - 1)])"
   ]
  },
  {
   "cell_type": "code",
   "execution_count": 11,
   "metadata": {},
   "outputs": [],
   "source": [
    "qubo_model = kw.qubo.QuboModel()\n",
    "# TSP path cost\n",
    "qubo_model.set_objective(kw.qubo.quicksum([w[u, v] * is_edge_used(x, u, v) for u, v in edges]))\n",
    "\n",
    "# Node constraint: Each node must belong to exactly one position\n",
    "qubo_model.add_constraint(x.sum(axis=0) == 1, \"sequence_cons\", penalty=20.0)\n",
    "\n",
    "# Position constraint: Each position can have only one node\n",
    "qubo_model.add_constraint(x.sum(axis=1) == 1, \"node_cons\", penalty=20.0)\n",
    "\n",
    "# Edge constraint: Pairs without edges cannot appear in the path\n",
    "qubo_model.add_constraint(kw.qubo.quicksum([is_edge_used(x, u, v) for u, v in no_edges]),\n",
    "    \"connect_cons\", penalty=20.0)"
   ]
  },
  {
   "cell_type": "code",
   "execution_count": 12,
   "metadata": {},
   "outputs": [
    {
     "ename": "ValueError",
     "evalue": "Please follow the tutorial to generate the license first. If there is no sdk authorization code, please log in to platform.qboson.com for support.",
     "output_type": "error",
     "traceback": [
      "\u001b[0;31m---------------------------------------------------------------------------\u001b[0m",
      "\u001b[0;31mValueError\u001b[0m                                Traceback (most recent call last)",
      "Cell \u001b[0;32mIn[12], line 8\u001b[0m\n\u001b[1;32m      1\u001b[0m \u001b[38;5;66;03m# Perform calculation using SA optimizer\u001b[39;00m\n\u001b[1;32m      2\u001b[0m solver \u001b[38;5;241m=\u001b[39m kw\u001b[38;5;241m.\u001b[39msolver\u001b[38;5;241m.\u001b[39mSimpleSolver(kw\u001b[38;5;241m.\u001b[39mclassical\u001b[38;5;241m.\u001b[39mSimulatedAnnealingOptimizer(initial_temperature\u001b[38;5;241m=\u001b[39m\u001b[38;5;241m100\u001b[39m,\n\u001b[1;32m      3\u001b[0m                                                                          alpha\u001b[38;5;241m=\u001b[39m\u001b[38;5;241m0.99\u001b[39m,\n\u001b[1;32m      4\u001b[0m                                                                          cutoff_temperature\u001b[38;5;241m=\u001b[39m\u001b[38;5;241m0.001\u001b[39m,\n\u001b[1;32m      5\u001b[0m                                                                          iterations_per_t\u001b[38;5;241m=\u001b[39m\u001b[38;5;241m10\u001b[39m,\n\u001b[1;32m      6\u001b[0m                                                                          size_limit\u001b[38;5;241m=\u001b[39m\u001b[38;5;241m100\u001b[39m))\n\u001b[0;32m----> 8\u001b[0m sol_dict, qubo_val \u001b[38;5;241m=\u001b[39m \u001b[43msolver\u001b[49m\u001b[38;5;241;43m.\u001b[39;49m\u001b[43msolve_qubo\u001b[49m\u001b[43m(\u001b[49m\u001b[43mqubo_model\u001b[49m\u001b[43m)\u001b[49m\n",
      "File \u001b[0;32mtarget/kaiwu/core/_solver_base.py:20\u001b[0m, in \u001b[0;36mkaiwu.core._solver_base.SolverBaseMeta.__new__.wrapped_execute\u001b[0;34m()\u001b[0m\n",
      "File \u001b[0;32mtarget/kaiwu/solver/_simple_solver.py:43\u001b[0m, in \u001b[0;36mkaiwu.solver._simple_solver.SimpleSolver.solve_qubo\u001b[0;34m()\u001b[0m\n",
      "File \u001b[0;32mtarget/kaiwu/classical/_simulated_annealing.py:187\u001b[0m, in \u001b[0;36mkaiwu.classical._simulated_annealing.SimulatedAnnealingOptimizer.solve\u001b[0;34m()\u001b[0m\n",
      "File \u001b[0;32mtarget/kaiwu/license/_track_data.py:57\u001b[0m, in \u001b[0;36mkaiwu.license._track_data.track_data.decorator.wrapper\u001b[0;34m()\u001b[0m\n",
      "File \u001b[0;32mtarget/kaiwu/license/_track_data.py:44\u001b[0m, in \u001b[0;36mkaiwu.license._track_data.track_data.decorator.wrapper\u001b[0;34m()\u001b[0m\n",
      "File \u001b[0;32mtarget/kaiwu/classical/_simulated_annealing.py:120\u001b[0m, in \u001b[0;36mkaiwu.classical._simulated_annealing.SimulatedAnnealingOptimizer.single_process_solve\u001b[0;34m()\u001b[0m\n",
      "File \u001b[0;32mtarget/kaiwu/license/_license_utils.py:147\u001b[0m, in \u001b[0;36mkaiwu.license._license_utils.verify_license\u001b[0;34m()\u001b[0m\n",
      "\u001b[0;31mValueError\u001b[0m: Please follow the tutorial to generate the license first. If there is no sdk authorization code, please log in to platform.qboson.com for support."
     ]
    }
   ],
   "source": [
    "# Perform calculation using SA optimizer\n",
    "solver = kw.solver.SimpleSolver(kw.classical.SimulatedAnnealingOptimizer(initial_temperature=100,\n",
    "                                                                         alpha=0.99,\n",
    "                                                                         cutoff_temperature=0.001,\n",
    "                                                                         iterations_per_t=10,\n",
    "                                                                         size_limit=100))\n",
    "\n",
    "sol_dict, qubo_val = solver.solve_qubo(qubo_model)\n"
   ]
  }
 ],
 "metadata": {
  "kernelspec": {
   "display_name": "Python 3",
   "language": "python",
   "name": "python3"
  },
  "language_info": {
   "codemirror_mode": {
    "name": "ipython",
    "version": 3
   },
   "file_extension": ".py",
   "mimetype": "text/x-python",
   "name": "python",
   "nbconvert_exporter": "python",
   "pygments_lexer": "ipython3",
   "version": "3.10.18"
  }
 },
 "nbformat": 4,
 "nbformat_minor": 2
}
