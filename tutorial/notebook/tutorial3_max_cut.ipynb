{
 "cells": [
  {
   "cell_type": "code",
   "execution_count": null,
   "metadata": {},
   "outputs": [
    {
     "name": "stdout",
     "output_type": "stream",
     "text": [
      "2025-01-15 14:25:29,694 - matplotlib - _get_config_or_cache_dir - 531 - WARNING - Matplotlib created a temporary cache directory at /var/folders/zn/4tn977cn5d75zhj54g4zg_br0000gn/T/matplotlib-oy0cyjc8 because the default path (/Users/abel-sun/.matplotlib) is not a writable directory; it is highly recommended to set the MPLCONFIGDIR environment variable to a writable directory, in particular to speed up the import of Matplotlib and to better support multiprocessing.\n"
     ]
    }
   ],
   "source": [
    "import numpy as np\n",
    "import kaiwu as kw\n",
    "\n",
    "# Import the plotting library\n",
    "import matplotlib.pyplot as plt\n"
   ]
  },
  {
   "cell_type": "code",
   "execution_count": null,
   "metadata": {},
   "outputs": [
    {
     "name": "stdout",
     "output_type": "stream",
     "text": [
      "[[-1 -1  1 -1 -1  1  1 -1  1 -1]\n",
      " [-1 -1  1 -1 -1  1  1  1  1  1]\n",
      " [-1 -1  1  1  1 -1 -1  1 -1  1]\n",
      " [-1 -1  1 -1  1 -1  1 -1  1 -1]\n",
      " [-1 -1  1  1 -1  1 -1  1 -1 -1]\n",
      " [-1 -1  1  1  1  1  1  1 -1 -1]\n",
      " [-1  1  1  1 -1 -1 -1 -1  1  1]\n",
      " [-1 -1  1 -1  1 -1  1  1  1 -1]\n",
      " [-1 -1  1  1 -1 -1  1  1 -1  1]\n",
      " [-1  1 -1  1  1  1 -1  1  1 -1]\n",
      " [-1  1  1 -1  1  1  1 -1  1 -1]\n",
      " [-1  1 -1 -1  1 -1 -1  1  1  1]\n",
      " [ 1 -1  1 -1 -1  1 -1 -1  1 -1]\n",
      " [ 1 -1 -1  1 -1  1  1  1 -1  1]\n",
      " [ 1 -1  1  1 -1  1  1 -1 -1 -1]\n",
      " [ 1 -1  1 -1 -1 -1  1  1  1  1]\n",
      " [ 1 -1  1 -1 -1 -1  1  1 -1 -1]\n",
      " [-1  1  1 -1 -1  1 -1  1 -1  1]\n",
      " [ 1 -1 -1 -1 -1  1 -1  1 -1  1]\n",
      " [ 1  1 -1  1 -1  1 -1  1 -1  1]\n",
      " [ 1 -1 -1 -1  1  1  1  1 -1 -1]\n",
      " [ 1 -1  1 -1 -1  1 -1 -1 -1 -1]\n",
      " [ 1 -1  1 -1 -1  1 -1 -1  1  1]\n",
      " [ 1 -1  1 -1 -1  1 -1  1  1  1]\n",
      " [-1  1 -1  1 -1 -1 -1 -1 -1  1]\n",
      " [ 1 -1  1 -1 -1  1 -1  1  1 -1]\n",
      " [ 1 -1  1  1 -1  1 -1 -1 -1  1]\n",
      " [ 1  1  1 -1 -1  1  1 -1 -1  1]\n",
      " [ 1 -1  1 -1 -1 -1  1  1  1 -1]\n",
      " [ 1  1  1  1 -1  1 -1 -1 -1  1]\n",
      " [ 1 -1  1  1 -1 -1  1  1 -1  1]\n",
      " [ 1 -1  1  1 -1  1  1 -1 -1  1]\n",
      " [ 1  1 -1 -1 -1  1  1 -1  1 -1]\n",
      " [ 1 -1  1 -1  1  1  1  1  1 -1]\n",
      " [ 1 -1 -1 -1 -1  1  1  1  1 -1]\n",
      " [ 1 -1  1 -1 -1 -1  1 -1  1  1]\n",
      " [ 1 -1  1 -1  1  1  1  1 -1  1]\n",
      " [ 1  1 -1 -1  1 -1  1 -1  1  1]\n",
      " [ 1 -1 -1  1 -1 -1 -1  1 -1  1]\n",
      " [ 1 -1 -1 -1 -1  1  1  1 -1 -1]\n",
      " [ 1  1  1 -1 -1 -1 -1  1 -1  1]\n",
      " [ 1 -1  1 -1 -1 -1  1 -1 -1  1]\n",
      " [ 1 -1 -1 -1  1  1  1  1  1 -1]\n",
      " [ 1 -1  1 -1  1  1  1 -1 -1  1]\n",
      " [ 1  1  1 -1 -1  1  1  1 -1 -1]\n",
      " [ 1  1  1 -1 -1  1  1  1 -1  1]\n",
      " [ 1  1  1 -1 -1  1  1 -1 -1 -1]\n",
      " [-1 -1  1  1 -1  1  1  1 -1  1]\n",
      " [-1 -1  1 -1  1  1  1  1 -1 -1]\n",
      " [-1  1 -1 -1  1 -1  1 -1  1  1]\n",
      " [ 1 -1  1 -1 -1  1  1  1 -1 -1]\n",
      " [ 1 -1  1 -1 -1  1 -1  1 -1  1]\n",
      " [ 1 -1  1  1 -1  1 -1  1 -1  1]\n",
      " [-1 -1  1 -1 -1  1  1  1  1 -1]\n",
      " [ 1 -1  1 -1 -1  1  1 -1 -1  1]\n",
      " [-1 -1  1 -1  1  1  1 -1  1 -1]\n",
      " [ 1  1 -1  1 -1 -1 -1  1 -1  1]\n",
      " [-1 -1 -1 -1  1  1  1 -1  1 -1]\n",
      " [ 1 -1  1 -1 -1  1 -1  1 -1 -1]\n",
      " [ 1 -1  1 -1  1  1  1 -1  1 -1]\n",
      " [ 1  1 -1  1 -1 -1 -1 -1 -1  1]\n",
      " [-1  1 -1  1 -1 -1 -1  1 -1  1]\n",
      " [ 1 -1  1 -1 -1  1  1  1  1 -1]\n",
      " [ 1  1 -1 -1 -1 -1 -1 -1  1  1]\n",
      " [-1  1  1  1 -1  1 -1  1 -1  1]\n",
      " [-1 -1  1 -1 -1  1  1  1 -1 -1]\n",
      " [ 1 -1  1 -1 -1  1  1  1  1  1]\n",
      " [ 1 -1  1 -1 -1 -1  1  1 -1  1]\n",
      " [-1 -1  1  1 -1  1  1  1 -1 -1]\n",
      " [ 1 -1  1 -1 -1 -1 -1  1 -1  1]\n",
      " [ 1 -1  1  1 -1 -1 -1  1 -1  1]\n",
      " [ 1 -1  1  1 -1 -1 -1 -1 -1  1]\n",
      " [ 1 -1 -1  1 -1  1 -1  1 -1  1]\n",
      " [ 1 -1 -1 -1 -1  1  1 -1  1 -1]\n",
      " [ 1  1  1 -1 -1  1 -1 -1 -1  1]\n",
      " [ 1  1  1 -1 -1  1  1 -1  1 -1]\n",
      " [-1 -1  1  1 -1 -1 -1  1 -1  1]\n",
      " [-1 -1  1 -1 -1  1 -1  1 -1  1]\n",
      " [ 1  1 -1  1 -1  1 -1 -1 -1  1]\n",
      " [ 1 -1 -1 -1 -1  1  1  1 -1  1]\n",
      " [ 1 -1  1 -1 -1  1  1 -1 -1 -1]\n",
      " [ 1  1  1  1  1 -1 -1 -1 -1  1]\n",
      " [ 1  1  1 -1 -1  1 -1  1 -1  1]\n",
      " [ 1 -1  1 -1 -1  1  1 -1  1  1]\n",
      " [ 1 -1  1  1 -1  1  1  1 -1 -1]\n",
      " [-1 -1  1 -1  1  1  1  1  1 -1]\n",
      " [ 1 -1  1 -1  1 -1  1 -1  1 -1]\n",
      " [-1  1  1  1  1 -1 -1  1 -1  1]\n",
      " [-1  1 -1 -1  1 -1 -1 -1  1  1]\n",
      " [-1 -1  1 -1 -1  1  1  1 -1  1]\n",
      " [ 1  1  1  1 -1  1 -1  1 -1  1]\n",
      " [-1  1 -1  1 -1  1 -1  1 -1  1]\n",
      " [ 1 -1  1 -1  1  1  1  1 -1 -1]\n",
      " [ 1 -1  1 -1 -1  1  1 -1  1 -1]\n",
      " [ 1 -1  1 -1  1  1  1 -1 -1 -1]\n",
      " [-1 -1  1  1 -1  1 -1  1 -1  1]\n",
      " [ 1 -1  1 -1 -1  1 -1 -1 -1  1]\n",
      " [ 1 -1  1  1 -1  1  1  1 -1  1]\n",
      " [ 1 -1  1  1 -1  1 -1  1 -1 -1]\n",
      " [ 1 -1  1 -1 -1  1  1  1 -1  1]]\n",
      "The obtained max cut is 19.0.\n"
     ]
    }
   ],
   "source": [
    "# invert input graph matrix\n",
    "matrix = -np.array([\n",
    "                [0, 1, 0, 1, 1, 0, 0, 1, 1, 0],\n",
    "                [1, 0, 1, 0, 0, 1, 1, 1, 0, 0],\n",
    "                [0, 1, 0, 1, 1, 0, 0, 0, 1, 0],\n",
    "                [1, 0, 1, 0, 0, 1, 1, 0 ,1, 0],\n",
    "                [1, 0, 1, 0, 0, 1, 0, 1, 0, 1],\n",
    "                [0, 1, 0, 1, 1, 0, 0, 0, 1, 1],\n",
    "                [0, 1, 0, 1, 0, 0, 0, 0, 0, 1],\n",
    "                [1, 1, 0, 0, 1, 0, 0, 0, 1, 0],\n",
    "                [1, 0, 1, 1, 0, 1, 0, 1, 0, 1],\n",
    "                [0, 0, 0, 0, 1, 1, 1, 0, 1, 0]])\n",
    "                \n",
    "worker = kw.classical.SimulatedAnnealingOptimizer(initial_temperature=100,\n",
    "                                                  alpha=0.99,\n",
    "                                                  cutoff_temperature=0.001,\n",
    "                                                  iterations_per_t=10,\n",
    "                                                  size_limit=100)\n",
    "output = worker.solve(matrix)\n",
    "opt = kw.sampler.optimal_sampler(matrix, output, 0)\n",
    "best = opt[0][0]\n",
    "max_cut = (np.sum(-matrix)-np.dot(-matrix,best).dot(best))/4\n",
    "print(\"The obtained max cut is \" + str(max_cut) + \".\")"
   ]
  },
  {
   "cell_type": "code",
   "execution_count": null,
   "metadata": {},
   "outputs": [
    {
     "ename": "AttributeError",
     "evalue": "module 'kaiwu' has no attribute 'qubo'",
     "output_type": "error",
     "traceback": [
      "\u001b[0;31m---------------------------------------------------------------------------\u001b[0m",
      "\u001b[0;31mAttributeError\u001b[0m                            Traceback (most recent call last)",
      "Cell \u001b[0;32mIn[3], line 5\u001b[0m\n\u001b[1;32m      2\u001b[0m n \u001b[38;5;241m=\u001b[39m w\u001b[38;5;241m.\u001b[39mshape[\u001b[38;5;241m0\u001b[39m]\n\u001b[1;32m      4\u001b[0m \u001b[38;5;66;03m# 创建QUBO变量\u001b[39;00m\n\u001b[0;32m----> 5\u001b[0m x \u001b[38;5;241m=\u001b[39m \u001b[43mkw\u001b[49m\u001b[38;5;241;43m.\u001b[39;49m\u001b[43mqubo\u001b[49m\u001b[38;5;241m.\u001b[39marray(n, \u001b[38;5;124m\"\u001b[39m\u001b[38;5;124mx\u001b[39m\u001b[38;5;124m\"\u001b[39m, kw\u001b[38;5;241m.\u001b[39mqubo\u001b[38;5;241m.\u001b[39mBinary)\n\u001b[1;32m      7\u001b[0m \u001b[38;5;66;03m# 创建QUBO模型\u001b[39;00m\n\u001b[1;32m      8\u001b[0m model \u001b[38;5;241m=\u001b[39m kw\u001b[38;5;241m.\u001b[39mqubo\u001b[38;5;241m.\u001b[39mQuboModel()\n",
      "\u001b[0;31mAttributeError\u001b[0m: module 'kaiwu' has no attribute 'qubo'"
     ]
    }
   ],
   "source": []
  },
  {
   "cell_type": "code",
   "execution_count": null,
   "metadata": {},
   "outputs": [],
   "source": []
  },
  {
   "cell_type": "code",
   "execution_count": null,
   "metadata": {},
   "outputs": [
    {
     "ename": "NameError",
     "evalue": "name 'result' is not defined",
     "output_type": "error",
     "traceback": [
      "\u001b[0;31m---------------------------------------------------------------------------\u001b[0m",
      "\u001b[0;31mNameError\u001b[0m                                 Traceback (most recent call last)",
      "Cell \u001b[0;32mIn[1], line 3\u001b[0m\n\u001b[1;32m      1\u001b[0m \u001b[38;5;66;03m# 第五个代码块：可视化结果\u001b[39;00m\n\u001b[1;32m      2\u001b[0m \u001b[38;5;66;03m# 获取最优解\u001b[39;00m\n\u001b[0;32m----> 3\u001b[0m solution \u001b[38;5;241m=\u001b[39m \u001b[43mresult\u001b[49m\u001b[38;5;241m.\u001b[39msolutions[\u001b[38;5;241m0\u001b[39m]\n\u001b[1;32m      5\u001b[0m \u001b[38;5;66;03m# 创建两个顶点集合\u001b[39;00m\n\u001b[1;32m      6\u001b[0m set1 \u001b[38;5;241m=\u001b[39m [i \u001b[38;5;28;01mfor\u001b[39;00m i, val \u001b[38;5;129;01min\u001b[39;00m \u001b[38;5;28menumerate\u001b[39m(solution) \u001b[38;5;28;01mif\u001b[39;00m val \u001b[38;5;241m==\u001b[39m \u001b[38;5;241m1\u001b[39m]\n",
      "\u001b[0;31mNameError\u001b[0m: name 'result' is not defined"
     ]
    }
   ],
   "source": []
  }
 ],
 "metadata": {
  "kernelspec": {
   "display_name": "kaiwu_sdk_env",
   "language": "python",
   "name": "python3"
  },
  "language_info": {
   "codemirror_mode": {
    "name": "ipython",
    "version": 3
   },
   "file_extension": ".py",
   "mimetype": "text/x-python",
   "name": "python",
   "nbconvert_exporter": "python",
   "pygments_lexer": "ipython3",
   "version": "3.8.19"
  }
 },
 "nbformat": 4,
 "nbformat_minor": 2
}
