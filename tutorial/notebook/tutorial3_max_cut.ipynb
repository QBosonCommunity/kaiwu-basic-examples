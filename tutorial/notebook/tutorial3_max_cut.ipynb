{
 "cells": [
  {
   "cell_type": "code",
   "execution_count": null,
   "metadata": {},
   "outputs": [],
   "source": [
    "import numpy as np\n",
    "import kaiwu as kw\n",
    "\n",
    "# Import the plotting library\n",
    "import matplotlib.pyplot as plt\n",
    "kw.common.CheckpointManager.save_dir = \"/tmp\"\n",
    "kw.license.init(user_id=\"xxxxxx\", sdk_code=\"xxxxxxxx\")"
   ]
  },
  {
   "cell_type": "code",
   "execution_count": 4,
   "metadata": {},
   "outputs": [
    {
     "name": "stdout",
     "output_type": "stream",
     "text": [
      "The obtained max cut is 19.0.\n"
     ]
    }
   ],
   "source": [
    "# invert input graph matrix\n",
    "matrix = -np.array([\n",
    "                [0, 1, 0, 1, 1, 0, 0, 1, 1, 0],\n",
    "                [1, 0, 1, 0, 0, 1, 1, 1, 0, 0],\n",
    "                [0, 1, 0, 1, 1, 0, 0, 0, 1, 0],\n",
    "                [1, 0, 1, 0, 0, 1, 1, 0 ,1, 0],\n",
    "                [1, 0, 1, 0, 0, 1, 0, 1, 0, 1],\n",
    "                [0, 1, 0, 1, 1, 0, 0, 0, 1, 1],\n",
    "                [0, 1, 0, 1, 0, 0, 0, 0, 0, 1],\n",
    "                [1, 1, 0, 0, 1, 0, 0, 0, 1, 0],\n",
    "                [1, 0, 1, 1, 0, 1, 0, 1, 0, 1],\n",
    "                [0, 0, 0, 0, 1, 1, 1, 0, 1, 0]])\n",
    "                \n",
    "worker = kw.classical.SimulatedAnnealingOptimizer(initial_temperature=100,\n",
    "                                                  alpha=0.99,\n",
    "                                                  cutoff_temperature=0.001,\n",
    "                                                  iterations_per_t=10,\n",
    "                                                  size_limit=100)\n",
    "output = worker.solve(matrix)\n",
    "opt = kw.sampler.optimal_sampler(matrix, output, 0)\n",
    "best = opt[0][0]\n",
    "max_cut = (np.sum(-matrix)-np.dot(-matrix,best).dot(best))/4\n",
    "print(\"The obtained max cut is \" + str(max_cut) + \".\")"
   ]
  },
  {
   "cell_type": "code",
   "execution_count": null,
   "metadata": {},
   "outputs": [],
   "source": []
  },
  {
   "cell_type": "code",
   "execution_count": null,
   "metadata": {},
   "outputs": [],
   "source": []
  },
  {
   "cell_type": "code",
   "execution_count": null,
   "metadata": {},
   "outputs": [],
   "source": []
  }
 ],
 "metadata": {
  "kernelspec": {
   "display_name": "Python 3",
   "language": "python",
   "name": "python3"
  },
  "language_info": {
   "codemirror_mode": {
    "name": "ipython",
    "version": 3
   },
   "file_extension": ".py",
   "mimetype": "text/x-python",
   "name": "python",
   "nbconvert_exporter": "python",
   "pygments_lexer": "ipython3",
   "version": "3.10.18"
  }
 },
 "nbformat": 4,
 "nbformat_minor": 2
}
